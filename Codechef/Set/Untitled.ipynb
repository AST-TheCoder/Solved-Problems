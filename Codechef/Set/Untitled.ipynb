{
 "cells": [
  {
   "cell_type": "code",
   "execution_count": 4,
   "id": "8c237d52",
   "metadata": {},
   "outputs": [
    {
     "name": "stdout",
     "output_type": "stream",
     "text": [
      "40\n",
      "0 2 814814822 2 250000003 755991293 142857145 2 814814822 138888892 864864872 755991293 864864872 984962415 906920086 2 157894739 755991293 157894739 138888892 239723243 146916150 717948724 755991293 250000003 146916150 814814822 984962415 717948724 454934161 717948724 2 961730970 439946024 674908431 755991293 717948724 439946024 961730970 138888892\n"
     ]
    }
   ],
   "source": [
    "from math import gcd\n",
    "mod = 10**9 + 7\n",
    "\n",
    "n = int(input())\n",
    "dp = [0]*(n+1)\n",
    "for i in range(2, n+1):\n",
    "    eq_gcd = 0\n",
    "    for j in range(1, n+1):\n",
    "        g = gcd(i, j)\n",
    "        if g == i: eq_gcd += 1\n",
    "        else:\n",
    "            dp[i] += dp[g] * pow(n, mod-2, mod)\n",
    "            dp[i] %= mod\n",
    "    dp[i] += 1\n",
    "\n",
    "    dp[i] = (dp[i] * n * pow(n - eq_gcd, mod-2, mod)) % mod\n",
    "print(*dp[1:])"
   ]
  },
  {
   "cell_type": "code",
   "execution_count": null,
   "id": "783944f9",
   "metadata": {},
   "outputs": [],
   "source": []
  },
  {
   "cell_type": "code",
   "execution_count": null,
   "id": "749e42c9",
   "metadata": {},
   "outputs": [],
   "source": []
  }
 ],
 "metadata": {
  "kernelspec": {
   "display_name": "Python 3 (ipykernel)",
   "language": "python",
   "name": "python3"
  },
  "language_info": {
   "codemirror_mode": {
    "name": "ipython",
    "version": 3
   },
   "file_extension": ".py",
   "mimetype": "text/x-python",
   "name": "python",
   "nbconvert_exporter": "python",
   "pygments_lexer": "ipython3",
   "version": "3.10.6"
  }
 },
 "nbformat": 4,
 "nbformat_minor": 5
}
